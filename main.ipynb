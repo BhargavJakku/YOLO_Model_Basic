{
 "cells": [
  {
   "cell_type": "code",
   "execution_count": null,
   "id": "01a965d2",
   "metadata": {},
   "outputs": [],
   "source": [
    "from ultralytics import YOLO\n",
    "import cv2"
   ]
  },
  {
   "cell_type": "code",
   "execution_count": null,
   "id": "21f17a53",
   "metadata": {},
   "outputs": [],
   "source": [
    "# Load pretrained YOLOv8 model (small version = faster)\n",
    "model = YOLO(\"yolov8s.pt\")\n",
    "\n",
    "# Test on an image\n",
    "results = model(\"https://ultralytics.com/images/bus.jpg\")[0]\n",
    "results.show()  # opens image with detections\n"
   ]
  },
  {
   "cell_type": "code",
   "execution_count": null,
   "id": "c383168f",
   "metadata": {},
   "outputs": [],
   "source": [
    "cap = cv2.VideoCapture(0)\n",
    "\n",
    "while True:\n",
    "    ret, frame = cap.read()\n",
    "    if not ret:\n",
    "        break\n",
    "\n",
    "    results = model(frame, stream=True)\n",
    "\n",
    "    # Draw bounding boxes and labels\n",
    "    for r in results:\n",
    "        frame = r.plot()\n",
    "\n",
    "    cv2.imshow(\"Test Webcam\", frame)\n",
    "\n",
    "    if cv2.waitKey(1) & 0xFF == ord(\"q\"):\n",
    "        break\n"
   ]
  },
  {
   "cell_type": "code",
   "execution_count": null,
   "id": "dea14d61",
   "metadata": {},
   "outputs": [],
   "source": [
    "cap.release()\n",
    "cv2.destroyAllWindows()"
   ]
  }
 ],
 "metadata": {
  "kernelspec": {
   "display_name": "venv",
   "language": "python",
   "name": "python3"
  },
  "language_info": {
   "codemirror_mode": {
    "name": "ipython",
    "version": 3
   },
   "file_extension": ".py",
   "mimetype": "text/x-python",
   "name": "python",
   "nbconvert_exporter": "python",
   "pygments_lexer": "ipython3",
   "version": "3.13.2"
  }
 },
 "nbformat": 4,
 "nbformat_minor": 5
}
